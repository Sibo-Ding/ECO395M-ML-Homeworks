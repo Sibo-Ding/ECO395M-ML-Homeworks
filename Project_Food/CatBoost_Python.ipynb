{
 "cells": [
  {
   "cell_type": "code",
   "execution_count": 1,
   "metadata": {},
   "outputs": [],
   "source": [
    "import warnings\n",
    "warnings.filterwarnings('ignore')"
   ]
  },
  {
   "cell_type": "code",
   "execution_count": 2,
   "metadata": {},
   "outputs": [],
   "source": [
    "import pandas as pd\n",
    "from catboost import CatBoostClassifier\n",
    "from sklearn.metrics import accuracy_score, confusion_matrix"
   ]
  },
  {
   "cell_type": "code",
   "execution_count": null,
   "metadata": {},
   "outputs": [],
   "source": [
    "# Same train-test split as RMarkdown\n",
    "train = pd.read_csv('train.csv')\n",
    "test = pd.read_csv('test.csv')\n",
    "\n",
    "# Convert data from str or int to categorical\n",
    "for col in train.columns:\n",
    "    train[col] = pd.Categorical(train[col])\n",
    "for col in test.columns:\n",
    "    test[col] = pd.Categorical(test[col])\n",
    "\n",
    "X_train = train.iloc[:, 1:]\n",
    "X_test = test.iloc[:, 1:]\n",
    "y_train = train['food_class']\n",
    "y_test = test['food_class']"
   ]
  },
  {
   "cell_type": "code",
   "execution_count": null,
   "metadata": {},
   "outputs": [],
   "source": [
    "%%capture\n",
    "\n",
    "features = ['food_class_l1', 'food_class_l2', 'food_class_l3', 'food_class_l4',\n",
    "            'meal', 'semester', 'week_of_sem', 'dow', 'breakfast_or_not', 'gym_or_not']\n",
    "\n",
    "cboost = CatBoostClassifier(iterations=200,\n",
    "                            learning_rate=0.01,\n",
    "                            depth=6,\n",
    "                            loss_function='MultiClass',\n",
    "                            eval_metric='Accuracy',\n",
    "                            random_seed=42)\n",
    "cboost.fit(X_train, y_train, cat_features=features)\n",
    "\n",
    "cboost_pred = cboost.predict(X_test)"
   ]
  },
  {
   "cell_type": "code",
   "execution_count": null,
   "metadata": {},
   "outputs": [
    {
     "data": {
      "text/plain": [
       "0.8076923076923077"
      ]
     },
     "execution_count": 14,
     "metadata": {},
     "output_type": "execute_result"
    }
   ],
   "source": [
    "accuracy_score(y_test, cboost_pred)"
   ]
  },
  {
   "cell_type": "code",
   "execution_count": null,
   "metadata": {},
   "outputs": [
    {
     "data": {
      "text/plain": [
       "array([[13,  7,  0],\n",
       "       [ 3, 42,  0],\n",
       "       [ 2,  3,  8]], dtype=int64)"
      ]
     },
     "execution_count": 15,
     "metadata": {},
     "output_type": "execute_result"
    }
   ],
   "source": [
    "confusion_matrix(y_test, cboost_pred)"
   ]
  }
 ],
 "metadata": {
  "kernelspec": {
   "display_name": "base",
   "language": "python",
   "name": "python3"
  },
  "language_info": {
   "codemirror_mode": {
    "name": "ipython",
    "version": 3
   },
   "file_extension": ".py",
   "mimetype": "text/x-python",
   "name": "python",
   "nbconvert_exporter": "python",
   "pygments_lexer": "ipython3",
   "version": "3.9.12"
  }
 },
 "nbformat": 4,
 "nbformat_minor": 2
}
