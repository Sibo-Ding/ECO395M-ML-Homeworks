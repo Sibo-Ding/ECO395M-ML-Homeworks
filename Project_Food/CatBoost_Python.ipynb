{
 "cells": [
  {
   "cell_type": "code",
   "execution_count": 1,
   "metadata": {},
   "outputs": [],
   "source": [
    "import warnings\n",
    "warnings.filterwarnings('ignore')"
   ]
  },
  {
   "cell_type": "code",
   "execution_count": 2,
   "metadata": {},
   "outputs": [],
   "source": [
    "import pandas as pd\n",
    "from catboost import CatBoostClassifier\n",
    "from sklearn.metrics import accuracy_score, confusion_matrix"
   ]
  },
  {
   "cell_type": "code",
   "execution_count": 3,
   "metadata": {},
   "outputs": [],
   "source": [
    "# Same train-test split as RMarkdown\n",
    "train = pd.read_csv('train.csv')\n",
    "test = pd.read_csv('test.csv')\n",
    "\n",
    "# Convert data from str or int to categorical\n",
    "for col in train.columns:\n",
    "    train[col] = pd.Categorical(train[col])\n",
    "for col in test.columns:\n",
    "    test[col] = pd.Categorical(test[col])\n",
    "\n",
    "X_train = train.iloc[:, 1:]\n",
    "X_test = test.iloc[:, 1:]\n",
    "y_train = train['food_class']\n",
    "y_test = test['food_class']"
   ]
  },
  {
   "cell_type": "code",
   "execution_count": 4,
   "metadata": {},
   "outputs": [],
   "source": [
    "%%capture\n",
    "# Hide output\n",
    "\n",
    "# List categorical features\n",
    "cat_features = ['food_class_l1', 'food_class_l2', 'food_class_l3', 'food_class_l4',\n",
    "                'meal', 'semester', 'week_of_sem', 'dow', 'breakfast_or_not', 'gym_or_not']\n",
    "\n",
    "# iterations: Number of trees (iterations) during training\n",
    "# learning_rate: Step size where the gradient boosting algorithm converges to the optimal solution\n",
    "# depth: Maximum depth of the trees\n",
    "# MultiClass: Softmax function\n",
    "# eval_metric: Evaluation metric\n",
    "cboost = CatBoostClassifier(iterations=300,\n",
    "                            learning_rate=0.01,\n",
    "                            depth=10,\n",
    "                            loss_function='MultiClass',\n",
    "                            eval_metric='Accuracy',\n",
    "                            random_seed=42)\n",
    "cboost.fit(X_train, y_train, cat_features=cat_features)\n",
    "\n",
    "cboost_pred = cboost.predict(X_test)"
   ]
  },
  {
   "cell_type": "code",
   "execution_count": 5,
   "metadata": {},
   "outputs": [
    {
     "data": {
      "text/plain": [
       "0.7582417582417582"
      ]
     },
     "execution_count": 5,
     "metadata": {},
     "output_type": "execute_result"
    }
   ],
   "source": [
    "accuracy_score(y_test, cboost_pred)"
   ]
  },
  {
   "cell_type": "code",
   "execution_count": 6,
   "metadata": {},
   "outputs": [
    {
     "data": {
      "text/plain": [
       "array([[17,  5,  0],\n",
       "       [ 3, 47,  0],\n",
       "       [ 8,  6,  5]], dtype=int64)"
      ]
     },
     "execution_count": 6,
     "metadata": {},
     "output_type": "execute_result"
    }
   ],
   "source": [
    "# This is the transpose of caret\n",
    "confusion_matrix(y_test, cboost_pred)"
   ]
  },
  {
   "cell_type": "code",
   "execution_count": null,
   "metadata": {},
   "outputs": [],
   "source": [
    "# Bayesian optimization\n",
    "from skopt import BayesSearchCV\n",
    "\n",
    "param_space = {\n",
    "    'iterations': (100, 1000),           # Number of trees\n",
    "    'learning_rate': (0.01, 0.3),        # Learning rate\n",
    "    'depth': (3, 10),                     # Depth of trees\n",
    "    'l2_leaf_reg': (1, 10),               # L2 regularization\n",
    "    'random_strength': (0.1, 1.0)        # Random strength\n",
    "}\n",
    "\n",
    "cat_features = ['food_class_l1', 'food_class_l2', 'food_class_l3', 'food_class_l4',\n",
    "                'meal', 'semester', 'week_of_sem', 'dow', 'breakfast_or_not', 'gym_or_not']\n",
    "\n",
    "catboost_model = CatBoostClassifier()\n",
    "\n",
    "bayes_search = BayesSearchCV(\n",
    "    estimator=catboost_model,\n",
    "    search_spaces=param_space,\n",
    "    scoring='accuracy',\n",
    "    cv=5,\n",
    "    n_jobs=-1,\n",
    "    n_iter=20,  # Number of iterations (evaluations)\n",
    "    random_state=42\n",
    ")\n",
    "\n",
    "bayes_search.fit(X_train, y_train, cat_features=cat_features)\n",
    "\n",
    "bayes_search.best_params_"
   ]
  }
 ],
 "metadata": {
  "kernelspec": {
   "display_name": "base",
   "language": "python",
   "name": "python3"
  },
  "language_info": {
   "codemirror_mode": {
    "name": "ipython",
    "version": 3
   },
   "file_extension": ".py",
   "mimetype": "text/x-python",
   "name": "python",
   "nbconvert_exporter": "python",
   "pygments_lexer": "ipython3",
   "version": "3.10.9"
  }
 },
 "nbformat": 4,
 "nbformat_minor": 2
}
